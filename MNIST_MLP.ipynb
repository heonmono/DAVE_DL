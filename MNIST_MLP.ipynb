{
 "cells": [
  {
   "cell_type": "markdown",
   "metadata": {},
   "source": [
    "#PACKAGES LOAD"
   ]
  },
  {
   "cell_type": "code",
   "execution_count": 1,
   "metadata": {},
   "outputs": [
    {
     "name": "stdout",
     "output_type": "stream",
     "text": [
      "packages loaded\n",
      "tf version is1.14.0\n"
     ]
    }
   ],
   "source": [
    "import numpy as np\n",
    "import tensorflow as tf\n",
    "import matplotlib.pyplot as plt\n",
    "from tensorflow.examples.tutorials.mnist import input_data\n",
    "import warnings\n",
    "warnings.filterwarnings(\"ignore\")\n",
    "print(\"packages loaded\")\n",
    "print(\"tf version is%s\" % (tf.__version__))"
   ]
  },
  {
   "cell_type": "code",
   "execution_count": 2,
   "metadata": {},
   "outputs": [],
   "source": [
    "old_v = tf.logging.get_verbosity()\n",
    "tf.logging.set_verbosity(tf.logging.ERROR)"
   ]
  },
  {
   "cell_type": "code",
   "execution_count": 3,
   "metadata": {},
   "outputs": [
    {
     "name": "stdout",
     "output_type": "stream",
     "text": [
      "Extracting data/train-images-idx3-ubyte.gz\n",
      "Extracting data/train-labels-idx1-ubyte.gz\n",
      "Extracting data/t10k-images-idx3-ubyte.gz\n",
      "Extracting data/t10k-labels-idx1-ubyte.gz\n",
      "mnust loaded\n"
     ]
    }
   ],
   "source": [
    "# mnist\n",
    "mnist = input_data.read_data_sets('data/', one_hot=True)\n",
    "mnist\n",
    "trainimg = mnist.train.images\n",
    "trainlabel = mnist.train.labels\n",
    "testimg = mnist.test.images\n",
    "testlabel = mnist.test.labels\n",
    "print(\"mnust loaded\")"
   ]
  },
  {
   "cell_type": "code",
   "execution_count": 4,
   "metadata": {},
   "outputs": [
    {
     "name": "stdout",
     "output_type": "stream",
     "text": [
      "Datasets(train=<tensorflow.contrib.learn.python.learn.datasets.mnist.DataSet object at 0x000001F23D840A08>, validation=<tensorflow.contrib.learn.python.learn.datasets.mnist.DataSet object at 0x000001F240813B88>, test=<tensorflow.contrib.learn.python.learn.datasets.mnist.DataSet object at 0x000001F240813B48>)\n",
      "(55000, 784)\n",
      "(55000, 10)\n"
     ]
    }
   ],
   "source": [
    "print(mnist)\n",
    "print(trainimg.shape)\n",
    "print(trainlabel.shape)"
   ]
  },
  {
   "cell_type": "code",
   "execution_count": 5,
   "metadata": {},
   "outputs": [],
   "source": [
    "# NETWORK TOPOLOGIES\n",
    "n_hideen_1 = 256\n",
    "n_hideen_2 = 128\n",
    "n_input = 784\n",
    "n_classes = 10\n",
    "epochs = 50\n",
    "batch_size = 100\n",
    "display_step = 10\n",
    "# INPUTS AND OUTPUTS\n",
    "x = tf.placeholder(\"float\", [None, n_input])\n",
    "y = tf.placeholder(\"float\", [None, n_classes])"
   ]
  },
  {
   "cell_type": "code",
   "execution_count": 6,
   "metadata": {},
   "outputs": [],
   "source": [
    "#NETWORK PARAMETERS\n",
    "stddev = 0.1\n",
    "weights = {\n",
    "    'h1' : tf.Variable(tf.random_normal([n_input, n_hideen_1], stddev=stddev)),\n",
    "    'h2' : tf.Variable(tf.random_normal([n_hideen_1, n_hideen_2], stddev=stddev)),\n",
    "    'out': tf.Variable(tf.random_normal([n_hideen_2, n_classes], stddev=stddev))\n",
    "}\n",
    "biases = {\n",
    "    'b1' : tf.Variable(tf.random_normal([n_hideen_1])),\n",
    "    'b2' : tf.Variable(tf.random_normal([n_hideen_2])),\n",
    "    'out' : tf.Variable(tf.random_normal([n_classes]))\n",
    "}"
   ]
  },
  {
   "cell_type": "code",
   "execution_count": 7,
   "metadata": {},
   "outputs": [],
   "source": [
    "#MLP AS FUNCTION\n",
    "def multilayer_perceptron(_X, _weights, _biases) :\n",
    "    layer1 = tf.nn.relu(tf.add(tf.matmul(_X, _weights['h1']), _biases['b1']))\n",
    "    layer2 = tf.nn.relu(tf.add(tf.matmul(layer1, _weights['h2']), _biases['b2']))\n",
    "    return (tf.matmul(layer2, _weights['out'])+ _biases['out'])"
   ]
  },
  {
   "cell_type": "code",
   "execution_count": 9,
   "metadata": {},
   "outputs": [],
   "source": [
    "pred = multilayer_perceptron(x, weights, biases)\n",
    "cost = tf.reduce_mean(tf.nn.softmax_cross_entropy_with_logits(labels=y, logits= pred))\n",
    "optm = tf.train.AdamOptimizer(learning_rate = 0.01).minimize(cost)\n",
    "corr = tf.equal(tf.argmax(pred,1), tf.argmax(y,1))\n",
    "accr = tf.reduce_mean(tf.cast(corr, \"float\"))"
   ]
  },
  {
   "cell_type": "code",
   "execution_count": 10,
   "metadata": {},
   "outputs": [],
   "source": [
    "init = tf.global_variables_initializer()\n",
    "sess = tf.Session()\n",
    "sess.run(init)"
   ]
  },
  {
   "cell_type": "code",
   "execution_count": 12,
   "metadata": {},
   "outputs": [
    {
     "name": "stdout",
     "output_type": "stream",
     "text": [
      "Epoch: 009/050 cost : 0\n",
      "TRAIN ACCURACY: 0.980\n",
      "TEST ACCURACY : 0.973\n",
      "Epoch: 019/050 cost : 0\n",
      "TRAIN ACCURACY: 0.980\n",
      "TEST ACCURACY : 0.967\n",
      "Epoch: 029/050 cost : 0\n",
      "TRAIN ACCURACY: 0.990\n",
      "TEST ACCURACY : 0.973\n",
      "Epoch: 039/050 cost : 0\n",
      "TRAIN ACCURACY: 1.000\n",
      "TEST ACCURACY : 0.973\n",
      "Epoch: 049/050 cost : 0\n",
      "TRAIN ACCURACY: 0.990\n",
      "TEST ACCURACY : 0.975\n"
     ]
    }
   ],
   "source": [
    "#run\n",
    "for epoch in range(epochs):\n",
    "    avg_cost = 0.\n",
    "    total_batch = int(mnist.train.num_examples/batch_size)\n",
    "    for i in range(total_batch):\n",
    "        batch_xs, batch_ys = mnist.train.next_batch(batch_size)\n",
    "        feeds = {x : batch_xs, y: batch_ys}\n",
    "        sess.run(optm, feed_dict = feeds)\n",
    "        avg_cost += sess.run(cost, feed_dict= feeds)\n",
    "        avg_cost = avg_cost / total_batch\n",
    "    #DIsplay\n",
    "    if (epoch+1) % display_step == 0 :\n",
    "        print(\"Epoch: %03d/%03d cost : %.0f\" % (epoch, epochs, avg_cost))\n",
    "        feeds = {x: batch_xs, y: batch_ys}\n",
    "        train_acc = sess.run(accr, feed_dict = feeds)\n",
    "        print(\"TRAIN ACCURACY: %.3f\" % (train_acc))\n",
    "        feeds = {x:mnist.test.images, y:mnist.test.labels}\n",
    "        test_acc =sess.run(accr, feed_dict =feeds)\n",
    "        print(\"TEST ACCURACY : %.3f\" % (test_acc))"
   ]
  },
  {
   "cell_type": "code",
   "execution_count": 32,
   "metadata": {},
   "outputs": [
    {
     "data": {
      "text/plain": [
       "(100, 784)"
      ]
     },
     "execution_count": 32,
     "metadata": {},
     "output_type": "execute_result"
    }
   ],
   "source": [
    "batch_xs.shape"
   ]
  },
  {
   "cell_type": "code",
   "execution_count": 27,
   "metadata": {},
   "outputs": [
    {
     "data": {
      "text/plain": [
       "array([[0., 0., 0., ..., 1., 0., 0.],\n",
       "       [0., 0., 1., ..., 0., 0., 0.],\n",
       "       [0., 1., 0., ..., 0., 0., 0.],\n",
       "       ...,\n",
       "       [0., 0., 0., ..., 0., 0., 0.],\n",
       "       [0., 0., 0., ..., 0., 0., 0.],\n",
       "       [0., 0., 0., ..., 0., 0., 0.]])"
      ]
     },
     "execution_count": 27,
     "metadata": {},
     "output_type": "execute_result"
    }
   ],
   "source": [
    "mnist.test.labels"
   ]
  }
 ],
 "metadata": {
  "kernelspec": {
   "display_name": "Python 3",
   "language": "python",
   "name": "python3"
  },
  "language_info": {
   "codemirror_mode": {
    "name": "ipython",
    "version": 3
   },
   "file_extension": ".py",
   "mimetype": "text/x-python",
   "name": "python",
   "nbconvert_exporter": "python",
   "pygments_lexer": "ipython3",
   "version": "3.7.4"
  }
 },
 "nbformat": 4,
 "nbformat_minor": 2
}
